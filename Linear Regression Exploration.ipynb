{
 "cells": [
  {
   "cell_type": "code",
   "execution_count": 23,
   "metadata": {
    "collapsed": false
   },
   "outputs": [],
   "source": [
    "import numpy as np\n",
    "import matplotlib.pyplot as plt\n",
    "%matplotlib inline"
   ]
  },
  {
   "cell_type": "code",
   "execution_count": 3,
   "metadata": {
    "collapsed": false
   },
   "outputs": [],
   "source": [
    "points = ((5, 20), (10, 59), (11, 16), (14, 29), (15, 43), (19, 22), (21, \n",
    "  48), (26, 12), (26, 36), (28, 26), (34, 40), (38, 51), (40, \n",
    "  42), (46, 48), (51, 58), (52, 34), (57, 48), (58, 59), (62, \n",
    "  68), (63, 40))\n"
   ]
  },
  {
   "cell_type": "code",
   "execution_count": 24,
   "metadata": {
    "collapsed": false
   },
   "outputs": [],
   "source": [
    "x = [i[0] for i in points]\n",
    "y = [i[1] for i in points]"
   ]
  },
  {
   "cell_type": "code",
   "execution_count": 27,
   "metadata": {
    "collapsed": false
   },
   "outputs": [
    {
     "data": {
      "text/plain": [
       "<matplotlib.collections.PathCollection at 0x10807ad10>"
      ]
     },
     "execution_count": 27,
     "metadata": {},
     "output_type": "execute_result"
    },
    {
     "data": {
      "image/png": "[encoded data removed]",
      "text/plain": [
       "<matplotlib.figure.Figure at 0x10807af50>"
      ]
     },
     "metadata": {},
     "output_type": "display_data"
    }
   ],
   "source": [
    "plt.scatter(x, y)"
   ]
  },
  {
   "cell_type": "code",
   "execution_count": 37,
   "metadata": {
    "collapsed": false
   },
   "outputs": [],
   "source": [
    "mean_x = float(sum(x))/len(x)\n",
    "mean_y = float(sum(y))/len(y)\n"
   ]
  },
  {
   "cell_type": "code",
   "execution_count": 40,
   "metadata": {
    "collapsed": true
   },
   "outputs": [
    {
     "name": "stdout",
     "output_type": "stream",
     "text": [
      "33.8 39.95\n"
     ]
    }
   ],
   "source": [
    "print mean_x, mean_y"
   ]
  },
  {
   "cell_type": "code",
   "execution_count": 59,
   "metadata": {
    "collapsed": false
   },
   "outputs": [],
   "source": [
    "# split all points across mean of x\n",
    "\n",
    "x_top_half = []\n",
    "x_bottom_half = []\n",
    "\n",
    "for i in points:\n",
    "    if i[0] >= mean_x:\n",
    "        x_top_half.append(i)\n",
    "    else:\n",
    "        x_bottom_half.append(i)\n",
    "        \n",
    "\n",
    "# split all points across mean of y        \n",
    "        \n",
    "y_top_half = []\n",
    "y_bottom_half = []\n",
    "\n",
    "for i in points:\n",
    "    if i[1] >= mean_y:\n",
    "        y_top_half.append(i)\n",
    "    else:\n",
    "        y_bottom_half.append(i)\n",
    "\n"
   ]
  },
  {
   "cell_type": "code",
   "execution_count": 65,
   "metadata": {
    "collapsed": false
   },
   "outputs": [],
   "source": [
    "xofTopX = [i[0] for i in x_top_half]\n",
    "yofTopX = [i[1] for i in x_top_half]\n",
    "xofTopY = [i[0] for i in y_top_half]\n",
    "yofTopY = [i[1] for i in y_top_half]"
   ]
  },
  {
   "cell_type": "code",
   "execution_count": 67,
   "metadata": {
    "collapsed": false
   },
   "outputs": [
    {
     "name": "stdout",
     "output_type": "stream",
     "text": [
      "[34, 38, 40, 46, 51, 52, 57, 58, 62, 63]\n",
      "[40, 51, 42, 48, 58, 34, 48, 59, 68, 40]\n",
      "[10, 15, 21, 34, 38, 40, 46, 51, 57, 58, 62, 63]\n",
      "[59, 43, 48, 40, 51, 42, 48, 58, 48, 59, 68, 40]\n"
     ]
    }
   ],
   "source": [
    "print xofTopX\n",
    "print yofTopX \n",
    "print xofTopY \n",
    "print yofTopY"
   ]
  },
  {
   "cell_type": "code",
   "execution_count": 70,
   "metadata": {
    "collapsed": true
   },
   "outputs": [],
   "source": [
    "mxX = sum(xofTopX)/len(xofTopX)\n",
    "myX = sum(yofTopX)/len(yofTopX)\n",
    "mxY = sum(xofTopY)/len(xofTopY)\n",
    "myY = sum(yofTopY)/len(yofTopY)"
   ]
  },
  {
   "cell_type": "code",
   "execution_count": 71,
   "metadata": {
    "collapsed": false
   },
   "outputs": [
    {
     "name": "stdout",
     "output_type": "stream",
     "text": [
      "50\n",
      "48\n",
      "41\n",
      "50\n"
     ]
    }
   ],
   "source": [
    "print mxX\n",
    "print myX\n",
    "print mxY\n",
    "print myY"
   ]
  },
  {
   "cell_type": "code",
   "execution_count": null,
   "metadata": {
    "collapsed": true
   },
   "outputs": [],
   "source": []
  }
 ],
 "metadata": {
  "kernelspec": {
   "display_name": "Python 2",
   "language": "python",
   "name": "python2"
  },
  "language_info": {
   "codemirror_mode": {
    "name": "ipython",
    "version": 2
   },
   "file_extension": ".py",
   "mimetype": "text/x-python",
   "name": "python",
   "nbconvert_exporter": "python",
   "pygments_lexer": "ipython2",
   "version": "2.7.12"
  }
 },
 "nbformat": 4,
 "nbformat_minor": 1
}
