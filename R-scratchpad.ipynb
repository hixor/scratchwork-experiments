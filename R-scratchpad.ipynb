{
 "cells": [
  {
   "cell_type": "code",
   "execution_count": 1,
   "metadata": {
    "collapsed": true
   },
   "outputs": [],
   "source": [
    "data.dir   <- '~/Dropbox/Data/'\n",
    "train.file <- paste0(data.dir, 'training.csv')\n",
    "test.file  <- paste0(data.dir, 'test.csv')"
   ]
  },
  {
   "cell_type": "code",
   "execution_count": 2,
   "metadata": {
    "collapsed": true
   },
   "outputs": [],
   "source": [
    "d.train <- read.csv(train.file, stringsAsFactors=F)"
   ]
  },
  {
   "cell_type": "code",
   "execution_count": 3,
   "metadata": {
    "collapsed": true
   },
   "outputs": [],
   "source": [
    "im.train      <- d.train$Image\n",
    "d.train$Image <- NULL\n"
   ]
  },
  {
   "cell_type": "code",
   "execution_count": 4,
   "metadata": {
    "collapsed": false
   },
   "outputs": [
    {
     "ename": "ERROR",
     "evalue": "Error in library(doMC): there is no package called ‘doMC’\n",
     "output_type": "error",
     "traceback": [
      "Error in library(doMC): there is no package called ‘doMC’\nTraceback:\n",
      "1. library(doMC)",
      "2. stop(txt, domain = NA)"
     ]
    }
   ],
   "source": [
    "library(doMC)\n",
    "registerDoMC()\n"
   ]
  },
  {
   "cell_type": "code",
   "execution_count": 5,
   "metadata": {
    "collapsed": false
   },
   "outputs": [
    {
     "name": "stderr",
     "output_type": "stream",
     "text": [
      "also installing the dependencies ‘foreach’, ‘iterators’\n",
      "\n"
     ]
    },
    {
     "name": "stdout",
     "output_type": "stream",
     "text": [
      "\n",
      "The downloaded binary packages are in\n",
      "\t/var/folders/_y/bb4r7t_15vb_y9s2ghnmj4z80000gp/T//Rtmp7TUgu9/downloaded_packages\n"
     ]
    }
   ],
   "source": [
    "install.packages('doMC')"
   ]
  },
  {
   "cell_type": "code",
   "execution_count": 6,
   "metadata": {
    "collapsed": false
   },
   "outputs": [
    {
     "name": "stderr",
     "output_type": "stream",
     "text": [
      "Loading required package: foreach\n",
      "Loading required package: iterators\n",
      "Loading required package: parallel\n"
     ]
    }
   ],
   "source": [
    "library(doMC)\n",
    "registerDoMC()"
   ]
  },
  {
   "cell_type": "code",
   "execution_count": 7,
   "metadata": {
    "collapsed": true
   },
   "outputs": [],
   "source": [
    "im.train <- foreach(im = im.train, .combine=rbind) %dopar% {\n",
    "    as.integer(unlist(strsplit(im, \" \")))\n",
    "}"
   ]
  },
  {
   "cell_type": "code",
   "execution_count": 8,
   "metadata": {
    "collapsed": true
   },
   "outputs": [],
   "source": [
    "d.test  <- read.csv(test.file, stringsAsFactors=F)\n",
    "im.test <- foreach(im = d.test$Image, .combine=rbind) %dopar% {\n",
    "    as.integer(unlist(strsplit(im, \" \")))\n",
    "}\n",
    "d.test$Image <- NULL"
   ]
  },
  {
   "cell_type": "code",
   "execution_count": null,
   "metadata": {
    "collapsed": true
   },
   "outputs": [],
   "source": []
  }
 ],
 "metadata": {
  "kernelspec": {
   "display_name": "R",
   "language": "R",
   "name": "ir"
  },
  "language_info": {
   "codemirror_mode": "r",
   "file_extension": ".r",
   "mimetype": "text/x-r-source",
   "name": "R",
   "pygments_lexer": "r",
   "version": "3.3.2"
  }
 },
 "nbformat": 4,
 "nbformat_minor": 1
}
